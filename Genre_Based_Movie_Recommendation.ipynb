{
  "cells": [
    {
      "cell_type": "markdown",
      "metadata": {
        "id": "view-in-github",
        "colab_type": "text"
      },
      "source": [
        "<a href=\"https://colab.research.google.com/github/RishikaBajaj31/Genre-Based-Movie-Recommendation-System/blob/main/Genre_Based_Movie_Recommendation.ipynb\" target=\"_parent\"><img src=\"https://colab.research.google.com/assets/colab-badge.svg\" alt=\"Open In Colab\"/></a>"
      ]
    },
    {
      "cell_type": "code",
      "execution_count": null,
      "metadata": {
        "colab": {
          "base_uri": "https://localhost:8080/"
        },
        "id": "GaJWq_hnD2bz",
        "outputId": "364ff621-fbce-49f1-b139-1736262d81de"
      },
      "outputs": [
        {
          "name": "stdout",
          "output_type": "stream",
          "text": [
            "Archive:  /content/archive (3).zip\n",
            "  inflating: genome_scores.csv       \n",
            "  inflating: genome_tags.csv         \n",
            "  inflating: link.csv                \n",
            "  inflating: movie.csv               \n",
            "  inflating: rating.csv              \n",
            "  inflating: tag.csv                 \n"
          ]
        }
      ],
      "source": [
        "!unzip '/content/archive (3).zip'"
      ]
    },
    {
      "cell_type": "code",
      "execution_count": null,
      "metadata": {
        "id": "Nn_-HjrtEPk9"
      },
      "outputs": [],
      "source": [
        "import pandas as pd\n",
        "\n",
        "# Load the dataset (adjust filename if needed)\n",
        "movies = pd.read_csv(\"//content/movie.csv\")  # Contains movieId, title, genres"
      ]
    },
    {
      "cell_type": "code",
      "execution_count": null,
      "metadata": {
        "id": "5v4EAoU5E_Se"
      },
      "outputs": [],
      "source": [
        "# Split genre strings and explode into rows for easier filtering\n",
        "movies['genres'] = movies['genres'].str.replace('|', ' ')"
      ]
    },
    {
      "cell_type": "code",
      "execution_count": null,
      "metadata": {
        "id": "GNT3CXz3FCAO"
      },
      "outputs": [],
      "source": [
        "from sklearn.feature_extraction.text import CountVectorizer\n",
        "from sklearn.metrics.pairwise import cosine_similarity\n",
        "\n",
        "# Vectorize genres\n",
        "cv = CountVectorizer()\n",
        "genre_matrix = cv.fit_transform(movies['genres'])\n",
        "\n",
        "# Compute similarity matrix\n",
        "similarity = cosine_similarity(genre_matrix)"
      ]
    },
    {
      "cell_type": "code",
      "execution_count": null,
      "metadata": {
        "id": "l9AIP-G6FE4x"
      },
      "outputs": [],
      "source": [
        "import pickle\n",
        "\n",
        "# Save the titles and genres\n",
        "pickle.dump(movies[['title', 'genres']], open(\"movies.pkl\", \"wb\"))\n",
        "pickle.dump(similarity, open(\"similarity.pkl\", \"wb\"))"
      ]
    },
    {
      "cell_type": "code",
      "execution_count": null,
      "metadata": {
        "id": "zMOYZolEFHXx"
      },
      "outputs": [],
      "source": [
        "with open(\"app.py\", \"w\") as f:\n",
        "    f.write('''\n",
        "import streamlit as st\n",
        "import pickle\n",
        "\n",
        "# Load data\n",
        "movies = pickle.load(open(\"movies.pkl\", \"rb\"))\n",
        "similarity = pickle.load(open(\"similarity.pkl\", \"rb\"))\n",
        "\n",
        "def recommend_by_genre(input_genre):\n",
        "    input_genre = input_genre.lower()\n",
        "    results = []\n",
        "    for i, genre in enumerate(movies['genres']):\n",
        "        if input_genre in genre.lower():\n",
        "            results.append((i, genre))\n",
        "\n",
        "    # Sort top 5 by overall similarity to the genre\n",
        "    top = sorted(results, key=lambda x: similarity[x[0]].sum(), reverse=True)[:5]\n",
        "    return [movies.iloc[i[0]].title for i in top]\n",
        "\n",
        "# Streamlit UI\n",
        "st.title(\"🎬 Genre-Based Movie Recommender\")\n",
        "genre_input = st.text_input(\"Enter a movie genre (e.g., Action, Horror, Comedy):\")\n",
        "\n",
        "if st.button(\"Recommend\"):\n",
        "    if genre_input:\n",
        "        recommendations = recommend_by_genre(genre_input)\n",
        "        st.subheader(\"Top 5 Movies:\")\n",
        "        for movie in recommendations:\n",
        "            st.write(\"🍿\", movie)\n",
        "    else:\n",
        "        st.warning(\"Please enter a genre.\")\n",
        "''')"
      ]
    },
    {
      "cell_type": "code",
      "execution_count": null,
      "metadata": {
        "id": "EVukeZOnFN5Y"
      },
      "outputs": [],
      "source": [
        "!pip install -q streamlit pyngrok"
      ]
    },
    {
      "cell_type": "code",
      "execution_count": null,
      "metadata": {
        "colab": {
          "background_save": true,
          "base_uri": "https://localhost:8080/"
        },
        "id": "KJm95X8zpSDn",
        "outputId": "7a1e9974-be20-4ece-ee79-714c7021aa5a"
      },
      "outputs": [
        {
          "name": "stdout",
          "output_type": "stream",
          "text": [
            "\n",
            "Collecting usage statistics. To deactivate, set browser.gatherUsageStats to false.\n",
            "\u001b[0m\n",
            "\u001b[0m\n",
            "\u001b[34m\u001b[1m  You can now view your Streamlit app in your browser.\u001b[0m\n",
            "\u001b[0m\n",
            "\u001b[34m  Local URL: \u001b[0m\u001b[1mhttp://localhost:8501\u001b[0m\n",
            "\u001b[34m  Network URL: \u001b[0m\u001b[1mhttp://172.28.0.12:8501\u001b[0m\n",
            "\u001b[34m  External URL: \u001b[0m\u001b[1mhttp://35.194.249.109:8501\u001b[0m\n",
            "\u001b[0m\n"
          ]
        }
      ],
      "source": [
        "from pyngrok import ngrok\n",
        "import time\n",
        "\n",
        "# Terminate any existing ngrok tunnels\n",
        "ngrok.kill()\n",
        "\n",
        "# Set your ngrok authtoken (replace with your actual token)\n",
        "NGROK_AUTH_TOKEN = \"2visowfmYMoIdekpSTqvwpOMUSq_5okknMUziK1h5EZVKcQmp\"\n",
        "ngrok.set_auth_token(NGROK_AUTH_TOKEN)\n",
        "\n",
        "# Run the Streamlit app in the background\n",
        "!streamlit run app.py --server.headless true &\n",
        "\n",
        "# Wait for 5 seconds for the app to fully start\n",
        "time.sleep(5)\n",
        "\n",
        "# Create a public URL to the Streamlit app\n",
        "public_url = ngrok.connect(8501)\n",
        "print(\"✅ Your app is live at:\", public_url)"
      ]
    },
    {
      "cell_type": "code",
      "execution_count": null,
      "metadata": {
        "id": "KSGD1hUeiEMU"
      },
      "outputs": [],
      "source": [
        "#!streamlit run app.py &>/content/logs.txt &"
      ]
    },
    {
      "cell_type": "code",
      "execution_count": null,
      "metadata": {
        "colab": {
          "base_uri": "https://localhost:8080/"
        },
        "id": "106qqn9UogEw",
        "outputId": "df7f9c8a-97f8-4303-c119-762e61222dcb"
      },
      "outputs": [
        {
          "name": "stderr",
          "output_type": "stream",
          "text": [
            "WARNING:pyngrok.process.ngrok:t=2025-07-26T16:47:47+0000 lvl=warn msg=\"failed to open private leg\" id=256e02b26d15 privaddr=localhost:8501 err=\"dial tcp 127.0.0.1:8501: connect: connection refused\"\n",
            "WARNING:pyngrok.process.ngrok:t=2025-07-26T16:47:47+0000 lvl=warn msg=\"failed to open private leg\" id=0f22c2ce16ba privaddr=localhost:8501 err=\"dial tcp 127.0.0.1:8501: connect: connection refused\"\n"
          ]
        },
        {
          "name": "stdout",
          "output_type": "stream",
          "text": [
            "\n",
            "Collecting usage statistics. To deactivate, set browser.gatherUsageStats to false.\n",
            "\u001b[0m\n",
            "\u001b[0m\n",
            "\u001b[34m\u001b[1m  You can now view your Streamlit app in your browser.\u001b[0m\n",
            "\u001b[0m\n",
            "\u001b[34m  Local URL: \u001b[0m\u001b[1mhttp://localhost:8501\u001b[0m\n",
            "\u001b[34m  Network URL: \u001b[0m\u001b[1mhttp://172.28.0.12:8501\u001b[0m\n",
            "\u001b[34m  External URL: \u001b[0m\u001b[1mhttp://35.194.249.109:8501\u001b[0m\n",
            "\u001b[0m\n",
            "Your Streamlit app is live at: NgrokTunnel: \"https://13cadb4a3fea.ngrok-free.app\" -> \"http://localhost:8501\"\n"
          ]
        }
      ],
      "source": [
        "# Run the streamlit app in the background\n",
        "!streamlit run app.py --server.headless true &\n",
        "\n",
        "# Get the public URL from ngrok\n",
        "from pyngrok import ngrok\n",
        "public_url = ngrok.connect(8501)\n",
        "print(\"Your Streamlit app is live at:\", public_url)"
      ]
    },
    {
      "cell_type": "code",
      "execution_count": null,
      "metadata": {
        "id": "Q2SubxYaiRxY"
      },
      "outputs": [],
      "source": [
        "from pyngrok import ngrok\n",
        "ngrok.kill()"
      ]
    },
    {
      "cell_type": "code",
      "execution_count": null,
      "metadata": {
        "colab": {
          "base_uri": "https://localhost:8080/"
        },
        "id": "ZcAsyAvLFX8i",
        "outputId": "06ef0a95-4a6e-46a2-c14f-28ccf8d6bd85"
      },
      "outputs": [
        {
          "name": "stdout",
          "output_type": "stream",
          "text": [
            "Streamlit app is live at: NgrokTunnel: \"https://7caf47726de3.ngrok-free.app\" -> \"http://localhost:8501\"\n"
          ]
        }
      ],
      "source": [
        "ngrok.set_auth_token(\"2visowfmYMoIdekpSTqvwpOMUSq_5okknMUziK1h5EZVKcQmp\")\n",
        "public_url = ngrok.connect(8501)\n",
        "print(\"Streamlit app is live at:\", public_url)"
      ]
    }
  ],
  "metadata": {
    "colab": {
      "provenance": [],
      "authorship_tag": "ABX9TyOX/9qm/0QxqDIeHxM2HvW2",
      "include_colab_link": true
    },
    "kernelspec": {
      "display_name": "Python 3",
      "name": "python3"
    },
    "language_info": {
      "name": "python"
    }
  },
  "nbformat": 4,
  "nbformat_minor": 0
}